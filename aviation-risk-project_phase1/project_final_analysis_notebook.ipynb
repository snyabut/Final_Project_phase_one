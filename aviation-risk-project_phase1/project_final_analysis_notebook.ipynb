{
 "cells": [
  {
   "cell_type": "markdown",
   "id": "21ede369",
   "metadata": {},
   "source": [
    "## Final Project Submission\n",
    "\n",
    "Please fill out:\n",
    "* Student name: SAMWEL ONGECHI\n",
    "* Student pace: part time\n",
    "* Scheduled project review date/time: \n",
    "* Instructor name: George Kamundia\n",
    "* Blog post URL:\n",
    "# Phase 1 Project: Aviation Accident Risk Analysis for Business Recommendations\n",
    "\n",
    "## Project Title: Aviation Risk Analysis for Business Recommendations\n",
    "\n",
    "### Introduction\n",
    "This notebook analyzes NTSB civil aviation accident data (assumed 1962-2023)\n",
    "To identify aircraft models with potentially lower risk profiles.\n",
    "The goal is to inform investment decisions for a new commercial/private aviation venture\n",
    "by providing data-driven insights and specific recommendations.\n",
    "# **Methodology:**\n",
    "#### 1. Load and initially explore the raw data.\n",
    "#### 2. Clean and prepare the data (handle missing values, types, standardize names & values).\n",
    "#### 3. Filter data to the relevant scope (e.g., recent years, specific aircraft types/uses).\n",
    "#### 4. Perform Exploratory Data Analysis (EDA) on the cleaned, filtered data.\n",
    "#### 5. Define and calculate risk metrics incorporating accident severity (fatality rates, severe damage rates).\n",
    "#### 6. Analyze and visualize risk profiles across different aircraft makes and models.\n",
    "#### 7. Conclude with specific, actionable recommendations based on the findings."
   ]
  },
  {
   "cell_type": "markdown",
   "id": "827b9140",
   "metadata": {},
   "source": [
    "# Setup and Data Loading"
   ]
  },
  {
   "cell_type": "code",
   "execution_count": 114,
   "id": "39cff2f8",
   "metadata": {},
   "outputs": [],
   "source": [
    "#importing libraries\n",
    "import pandas as pd\n",
    "import numpy as np\n",
    "import matplotlib.pyplot as plt\n",
    "import seaborn as sns"
   ]
  },
  {
   "cell_type": "code",
   "execution_count": 115,
   "id": "dfb690a1",
   "metadata": {},
   "outputs": [
    {
     "name": "stderr",
     "output_type": "stream",
     "text": [
      "<ipython-input-115-a2a490395a51>:2: DtypeWarning: Columns (6,7,28) have mixed types. Specify dtype option on import or set low_memory=False.\n",
      "  df_raw = pd.read_csv(\"data\\Aviation_Data.csv\", encoding='latin-1')\n"
     ]
    },
    {
     "data": {
      "application/vnd.microsoft.datawrangler.viewer.v0+json": {
       "columns": [
        {
         "name": "index",
         "rawType": "int64",
         "type": "integer"
        },
        {
         "name": "Event.Id",
         "rawType": "object",
         "type": "string"
        },
        {
         "name": "Investigation.Type",
         "rawType": "object",
         "type": "string"
        },
        {
         "name": "Accident.Number",
         "rawType": "object",
         "type": "string"
        },
        {
         "name": "Event.Date",
         "rawType": "object",
         "type": "string"
        },
        {
         "name": "Location",
         "rawType": "object",
         "type": "string"
        },
        {
         "name": "Country",
         "rawType": "object",
         "type": "string"
        },
        {
         "name": "Latitude",
         "rawType": "object",
         "type": "string"
        },
        {
         "name": "Longitude",
         "rawType": "object",
         "type": "string"
        },
        {
         "name": "Airport.Code",
         "rawType": "object",
         "type": "string"
        },
        {
         "name": "Airport.Name",
         "rawType": "object",
         "type": "string"
        },
        {
         "name": "Injury.Severity",
         "rawType": "object",
         "type": "string"
        },
        {
         "name": "Aircraft.damage",
         "rawType": "object",
         "type": "string"
        },
        {
         "name": "Aircraft.Category",
         "rawType": "object",
         "type": "string"
        },
        {
         "name": "Registration.Number",
         "rawType": "object",
         "type": "string"
        },
        {
         "name": "Make",
         "rawType": "object",
         "type": "string"
        },
        {
         "name": "Model",
         "rawType": "object",
         "type": "string"
        },
        {
         "name": "Amateur.Built",
         "rawType": "object",
         "type": "string"
        },
        {
         "name": "Number.of.Engines",
         "rawType": "float64",
         "type": "float"
        },
        {
         "name": "Engine.Type",
         "rawType": "object",
         "type": "string"
        },
        {
         "name": "FAR.Description",
         "rawType": "object",
         "type": "string"
        },
        {
         "name": "Schedule",
         "rawType": "object",
         "type": "string"
        },
        {
         "name": "Purpose.of.flight",
         "rawType": "object",
         "type": "string"
        },
        {
         "name": "Air.carrier",
         "rawType": "object",
         "type": "string"
        },
        {
         "name": "Total.Fatal.Injuries",
         "rawType": "float64",
         "type": "float"
        },
        {
         "name": "Total.Serious.Injuries",
         "rawType": "float64",
         "type": "float"
        },
        {
         "name": "Total.Minor.Injuries",
         "rawType": "float64",
         "type": "float"
        },
        {
         "name": "Total.Uninjured",
         "rawType": "float64",
         "type": "float"
        },
        {
         "name": "Weather.Condition",
         "rawType": "object",
         "type": "string"
        },
        {
         "name": "Broad.phase.of.flight",
         "rawType": "object",
         "type": "string"
        },
        {
         "name": "Report.Status",
         "rawType": "object",
         "type": "string"
        },
        {
         "name": "Publication.Date",
         "rawType": "object",
         "type": "string"
        }
       ],
       "conversionMethod": "pd.DataFrame",
       "ref": "8d1fefb3-71b0-4f0e-86df-8775d4938f52",
       "rows": [
        [
         "0",
         "20001218X45444",
         "Accident",
         "SEA87LA080",
         "1948-10-24",
         "MOOSE CREEK, ID",
         "United States",
         null,
         null,
         null,
         null,
         "Fatal(2)",
         "Destroyed",
         null,
         "NC6404",
         "Stinson",
         "108-3",
         "No",
         "1.0",
         "Reciprocating",
         null,
         null,
         "Personal",
         null,
         "2.0",
         "0.0",
         "0.0",
         "0.0",
         "UNK",
         "Cruise",
         "Probable Cause",
         null
        ],
        [
         "1",
         "20001218X45447",
         "Accident",
         "LAX94LA336",
         "1962-07-19",
         "BRIDGEPORT, CA",
         "United States",
         null,
         null,
         null,
         null,
         "Fatal(4)",
         "Destroyed",
         null,
         "N5069P",
         "Piper",
         "PA24-180",
         "No",
         "1.0",
         "Reciprocating",
         null,
         null,
         "Personal",
         null,
         "4.0",
         "0.0",
         "0.0",
         "0.0",
         "UNK",
         "Unknown",
         "Probable Cause",
         "19-09-1996"
        ],
        [
         "2",
         "20061025X01555",
         "Accident",
         "NYC07LA005",
         "1974-08-30",
         "Saltville, VA",
         "United States",
         "36.922223",
         "-81.878056",
         null,
         null,
         "Fatal(3)",
         "Destroyed",
         null,
         "N5142R",
         "Cessna",
         "172M",
         "No",
         "1.0",
         "Reciprocating",
         null,
         null,
         "Personal",
         null,
         "3.0",
         null,
         null,
         null,
         "IMC",
         "Cruise",
         "Probable Cause",
         "26-02-2007"
        ],
        [
         "3",
         "20001218X45448",
         "Accident",
         "LAX96LA321",
         "1977-06-19",
         "EUREKA, CA",
         "United States",
         null,
         null,
         null,
         null,
         "Fatal(2)",
         "Destroyed",
         null,
         "N1168J",
         "Rockwell",
         "112",
         "No",
         "1.0",
         "Reciprocating",
         null,
         null,
         "Personal",
         null,
         "2.0",
         "0.0",
         "0.0",
         "0.0",
         "IMC",
         "Cruise",
         "Probable Cause",
         "12-09-2000"
        ],
        [
         "4",
         "20041105X01764",
         "Accident",
         "CHI79FA064",
         "1979-08-02",
         "Canton, OH",
         "United States",
         null,
         null,
         null,
         null,
         "Fatal(1)",
         "Destroyed",
         null,
         "N15NY",
         "Cessna",
         "501",
         "No",
         null,
         null,
         null,
         null,
         "Personal",
         null,
         "1.0",
         "2.0",
         null,
         "0.0",
         "VMC",
         "Approach",
         "Probable Cause",
         "16-04-1980"
        ]
       ],
       "shape": {
        "columns": 31,
        "rows": 5
       }
      },
      "text/html": [
       "<div>\n",
       "<style scoped>\n",
       "    .dataframe tbody tr th:only-of-type {\n",
       "        vertical-align: middle;\n",
       "    }\n",
       "\n",
       "    .dataframe tbody tr th {\n",
       "        vertical-align: top;\n",
       "    }\n",
       "\n",
       "    .dataframe thead th {\n",
       "        text-align: right;\n",
       "    }\n",
       "</style>\n",
       "<table border=\"1\" class=\"dataframe\">\n",
       "  <thead>\n",
       "    <tr style=\"text-align: right;\">\n",
       "      <th></th>\n",
       "      <th>Event.Id</th>\n",
       "      <th>Investigation.Type</th>\n",
       "      <th>Accident.Number</th>\n",
       "      <th>Event.Date</th>\n",
       "      <th>Location</th>\n",
       "      <th>Country</th>\n",
       "      <th>Latitude</th>\n",
       "      <th>Longitude</th>\n",
       "      <th>Airport.Code</th>\n",
       "      <th>Airport.Name</th>\n",
       "      <th>...</th>\n",
       "      <th>Purpose.of.flight</th>\n",
       "      <th>Air.carrier</th>\n",
       "      <th>Total.Fatal.Injuries</th>\n",
       "      <th>Total.Serious.Injuries</th>\n",
       "      <th>Total.Minor.Injuries</th>\n",
       "      <th>Total.Uninjured</th>\n",
       "      <th>Weather.Condition</th>\n",
       "      <th>Broad.phase.of.flight</th>\n",
       "      <th>Report.Status</th>\n",
       "      <th>Publication.Date</th>\n",
       "    </tr>\n",
       "  </thead>\n",
       "  <tbody>\n",
       "    <tr>\n",
       "      <th>0</th>\n",
       "      <td>20001218X45444</td>\n",
       "      <td>Accident</td>\n",
       "      <td>SEA87LA080</td>\n",
       "      <td>1948-10-24</td>\n",
       "      <td>MOOSE CREEK, ID</td>\n",
       "      <td>United States</td>\n",
       "      <td>NaN</td>\n",
       "      <td>NaN</td>\n",
       "      <td>NaN</td>\n",
       "      <td>NaN</td>\n",
       "      <td>...</td>\n",
       "      <td>Personal</td>\n",
       "      <td>NaN</td>\n",
       "      <td>2.0</td>\n",
       "      <td>0.0</td>\n",
       "      <td>0.0</td>\n",
       "      <td>0.0</td>\n",
       "      <td>UNK</td>\n",
       "      <td>Cruise</td>\n",
       "      <td>Probable Cause</td>\n",
       "      <td>NaN</td>\n",
       "    </tr>\n",
       "    <tr>\n",
       "      <th>1</th>\n",
       "      <td>20001218X45447</td>\n",
       "      <td>Accident</td>\n",
       "      <td>LAX94LA336</td>\n",
       "      <td>1962-07-19</td>\n",
       "      <td>BRIDGEPORT, CA</td>\n",
       "      <td>United States</td>\n",
       "      <td>NaN</td>\n",
       "      <td>NaN</td>\n",
       "      <td>NaN</td>\n",
       "      <td>NaN</td>\n",
       "      <td>...</td>\n",
       "      <td>Personal</td>\n",
       "      <td>NaN</td>\n",
       "      <td>4.0</td>\n",
       "      <td>0.0</td>\n",
       "      <td>0.0</td>\n",
       "      <td>0.0</td>\n",
       "      <td>UNK</td>\n",
       "      <td>Unknown</td>\n",
       "      <td>Probable Cause</td>\n",
       "      <td>19-09-1996</td>\n",
       "    </tr>\n",
       "    <tr>\n",
       "      <th>2</th>\n",
       "      <td>20061025X01555</td>\n",
       "      <td>Accident</td>\n",
       "      <td>NYC07LA005</td>\n",
       "      <td>1974-08-30</td>\n",
       "      <td>Saltville, VA</td>\n",
       "      <td>United States</td>\n",
       "      <td>36.922223</td>\n",
       "      <td>-81.878056</td>\n",
       "      <td>NaN</td>\n",
       "      <td>NaN</td>\n",
       "      <td>...</td>\n",
       "      <td>Personal</td>\n",
       "      <td>NaN</td>\n",
       "      <td>3.0</td>\n",
       "      <td>NaN</td>\n",
       "      <td>NaN</td>\n",
       "      <td>NaN</td>\n",
       "      <td>IMC</td>\n",
       "      <td>Cruise</td>\n",
       "      <td>Probable Cause</td>\n",
       "      <td>26-02-2007</td>\n",
       "    </tr>\n",
       "    <tr>\n",
       "      <th>3</th>\n",
       "      <td>20001218X45448</td>\n",
       "      <td>Accident</td>\n",
       "      <td>LAX96LA321</td>\n",
       "      <td>1977-06-19</td>\n",
       "      <td>EUREKA, CA</td>\n",
       "      <td>United States</td>\n",
       "      <td>NaN</td>\n",
       "      <td>NaN</td>\n",
       "      <td>NaN</td>\n",
       "      <td>NaN</td>\n",
       "      <td>...</td>\n",
       "      <td>Personal</td>\n",
       "      <td>NaN</td>\n",
       "      <td>2.0</td>\n",
       "      <td>0.0</td>\n",
       "      <td>0.0</td>\n",
       "      <td>0.0</td>\n",
       "      <td>IMC</td>\n",
       "      <td>Cruise</td>\n",
       "      <td>Probable Cause</td>\n",
       "      <td>12-09-2000</td>\n",
       "    </tr>\n",
       "    <tr>\n",
       "      <th>4</th>\n",
       "      <td>20041105X01764</td>\n",
       "      <td>Accident</td>\n",
       "      <td>CHI79FA064</td>\n",
       "      <td>1979-08-02</td>\n",
       "      <td>Canton, OH</td>\n",
       "      <td>United States</td>\n",
       "      <td>NaN</td>\n",
       "      <td>NaN</td>\n",
       "      <td>NaN</td>\n",
       "      <td>NaN</td>\n",
       "      <td>...</td>\n",
       "      <td>Personal</td>\n",
       "      <td>NaN</td>\n",
       "      <td>1.0</td>\n",
       "      <td>2.0</td>\n",
       "      <td>NaN</td>\n",
       "      <td>0.0</td>\n",
       "      <td>VMC</td>\n",
       "      <td>Approach</td>\n",
       "      <td>Probable Cause</td>\n",
       "      <td>16-04-1980</td>\n",
       "    </tr>\n",
       "  </tbody>\n",
       "</table>\n",
       "<p>5 rows × 31 columns</p>\n",
       "</div>"
      ],
      "text/plain": [
       "         Event.Id Investigation.Type Accident.Number  Event.Date  \\\n",
       "0  20001218X45444           Accident      SEA87LA080  1948-10-24   \n",
       "1  20001218X45447           Accident      LAX94LA336  1962-07-19   \n",
       "2  20061025X01555           Accident      NYC07LA005  1974-08-30   \n",
       "3  20001218X45448           Accident      LAX96LA321  1977-06-19   \n",
       "4  20041105X01764           Accident      CHI79FA064  1979-08-02   \n",
       "\n",
       "          Location        Country   Latitude  Longitude Airport.Code  \\\n",
       "0  MOOSE CREEK, ID  United States        NaN        NaN          NaN   \n",
       "1   BRIDGEPORT, CA  United States        NaN        NaN          NaN   \n",
       "2    Saltville, VA  United States  36.922223 -81.878056          NaN   \n",
       "3       EUREKA, CA  United States        NaN        NaN          NaN   \n",
       "4       Canton, OH  United States        NaN        NaN          NaN   \n",
       "\n",
       "  Airport.Name  ... Purpose.of.flight Air.carrier Total.Fatal.Injuries  \\\n",
       "0          NaN  ...          Personal         NaN                  2.0   \n",
       "1          NaN  ...          Personal         NaN                  4.0   \n",
       "2          NaN  ...          Personal         NaN                  3.0   \n",
       "3          NaN  ...          Personal         NaN                  2.0   \n",
       "4          NaN  ...          Personal         NaN                  1.0   \n",
       "\n",
       "  Total.Serious.Injuries Total.Minor.Injuries Total.Uninjured  \\\n",
       "0                    0.0                  0.0             0.0   \n",
       "1                    0.0                  0.0             0.0   \n",
       "2                    NaN                  NaN             NaN   \n",
       "3                    0.0                  0.0             0.0   \n",
       "4                    2.0                  NaN             0.0   \n",
       "\n",
       "  Weather.Condition  Broad.phase.of.flight   Report.Status Publication.Date  \n",
       "0               UNK                 Cruise  Probable Cause              NaN  \n",
       "1               UNK                Unknown  Probable Cause       19-09-1996  \n",
       "2               IMC                 Cruise  Probable Cause       26-02-2007  \n",
       "3               IMC                 Cruise  Probable Cause       12-09-2000  \n",
       "4               VMC               Approach  Probable Cause       16-04-1980  \n",
       "\n",
       "[5 rows x 31 columns]"
      ]
     },
     "execution_count": 115,
     "metadata": {},
     "output_type": "execute_result"
    }
   ],
   "source": [
    "#data loading data_path is \"data\\AviationData.csv\"\n",
    "df_raw = pd.read_csv(\"data\\Aviation_Data.csv\", encoding='latin-1')\n",
    "df_raw.head()"
   ]
  },
  {
   "cell_type": "markdown",
   "id": "30e1eb7f",
   "metadata": {},
   "source": [
    "### Data Familiarization and Initial Assessment\n",
    "Gaining an initial overview of the data's structure, types, missing values, and content"
   ]
  },
  {
   "cell_type": "code",
   "execution_count": 116,
   "id": "094171c4",
   "metadata": {},
   "outputs": [
    {
     "name": "stdout",
     "output_type": "stream",
     "text": [
      "<class 'pandas.core.frame.DataFrame'>\n",
      "RangeIndex: 90348 entries, 0 to 90347\n",
      "Data columns (total 31 columns):\n",
      " #   Column                  Non-Null Count  Dtype  \n",
      "---  ------                  --------------  -----  \n",
      " 0   Event.Id                88889 non-null  object \n",
      " 1   Investigation.Type      90348 non-null  object \n",
      " 2   Accident.Number         88889 non-null  object \n",
      " 3   Event.Date              88889 non-null  object \n",
      " 4   Location                88837 non-null  object \n",
      " 5   Country                 88663 non-null  object \n",
      " 6   Latitude                34382 non-null  object \n",
      " 7   Longitude               34373 non-null  object \n",
      " 8   Airport.Code            50249 non-null  object \n",
      " 9   Airport.Name            52790 non-null  object \n",
      " 10  Injury.Severity         87889 non-null  object \n",
      " 11  Aircraft.damage         85695 non-null  object \n",
      " 12  Aircraft.Category       32287 non-null  object \n",
      " 13  Registration.Number     87572 non-null  object \n",
      " 14  Make                    88826 non-null  object \n",
      " 15  Model                   88797 non-null  object \n",
      " 16  Amateur.Built           88787 non-null  object \n",
      " 17  Number.of.Engines       82805 non-null  float64\n",
      " 18  Engine.Type             81812 non-null  object \n",
      " 19  FAR.Description         32023 non-null  object \n",
      " 20  Schedule                12582 non-null  object \n",
      " 21  Purpose.of.flight       82697 non-null  object \n",
      " 22  Air.carrier             16648 non-null  object \n",
      " 23  Total.Fatal.Injuries    77488 non-null  float64\n",
      " 24  Total.Serious.Injuries  76379 non-null  float64\n",
      " 25  Total.Minor.Injuries    76956 non-null  float64\n",
      " 26  Total.Uninjured         82977 non-null  float64\n",
      " 27  Weather.Condition       84397 non-null  object \n",
      " 28  Broad.phase.of.flight   61724 non-null  object \n",
      " 29  Report.Status           82508 non-null  object \n",
      " 30  Publication.Date        73659 non-null  object \n",
      "dtypes: float64(5), object(26)\n",
      "memory usage: 21.4+ MB\n"
     ]
    }
   ],
   "source": [
    "df_raw.info()\n"
   ]
  },
  {
   "cell_type": "code",
   "execution_count": 117,
   "id": "a4572563",
   "metadata": {},
   "outputs": [
    {
     "data": {
      "application/vnd.microsoft.datawrangler.viewer.v0+json": {
       "columns": [
        {
         "name": "index",
         "rawType": "object",
         "type": "string"
        },
        {
         "name": "Number.of.Engines",
         "rawType": "float64",
         "type": "float"
        },
        {
         "name": "Total.Fatal.Injuries",
         "rawType": "float64",
         "type": "float"
        },
        {
         "name": "Total.Serious.Injuries",
         "rawType": "float64",
         "type": "float"
        },
        {
         "name": "Total.Minor.Injuries",
         "rawType": "float64",
         "type": "float"
        },
        {
         "name": "Total.Uninjured",
         "rawType": "float64",
         "type": "float"
        }
       ],
       "conversionMethod": "pd.DataFrame",
       "ref": "50ecabdb-64c9-433e-a76f-b513376af37d",
       "rows": [
        [
         "count",
         "82805.0",
         "77488.0",
         "76379.0",
         "76956.0",
         "82977.0"
        ],
        [
         "mean",
         "1.1465853511261397",
         "0.6478551517654346",
         "0.27988059545162935",
         "0.3570611778158948",
         "5.325439579642552"
        ],
        [
         "std",
         "0.44651021381976264",
         "5.485960107558412",
         "1.544083645233758",
         "2.2356253196561946",
         "27.913634431016277"
        ],
        [
         "min",
         "0.0",
         "0.0",
         "0.0",
         "0.0",
         "0.0"
        ],
        [
         "25%",
         "1.0",
         "0.0",
         "0.0",
         "0.0",
         "0.0"
        ],
        [
         "50%",
         "1.0",
         "0.0",
         "0.0",
         "0.0",
         "1.0"
        ],
        [
         "75%",
         "1.0",
         "0.0",
         "0.0",
         "0.0",
         "2.0"
        ],
        [
         "max",
         "8.0",
         "349.0",
         "161.0",
         "380.0",
         "699.0"
        ]
       ],
       "shape": {
        "columns": 5,
        "rows": 8
       }
      },
      "text/html": [
       "<div>\n",
       "<style scoped>\n",
       "    .dataframe tbody tr th:only-of-type {\n",
       "        vertical-align: middle;\n",
       "    }\n",
       "\n",
       "    .dataframe tbody tr th {\n",
       "        vertical-align: top;\n",
       "    }\n",
       "\n",
       "    .dataframe thead th {\n",
       "        text-align: right;\n",
       "    }\n",
       "</style>\n",
       "<table border=\"1\" class=\"dataframe\">\n",
       "  <thead>\n",
       "    <tr style=\"text-align: right;\">\n",
       "      <th></th>\n",
       "      <th>Number.of.Engines</th>\n",
       "      <th>Total.Fatal.Injuries</th>\n",
       "      <th>Total.Serious.Injuries</th>\n",
       "      <th>Total.Minor.Injuries</th>\n",
       "      <th>Total.Uninjured</th>\n",
       "    </tr>\n",
       "  </thead>\n",
       "  <tbody>\n",
       "    <tr>\n",
       "      <th>count</th>\n",
       "      <td>82805.000000</td>\n",
       "      <td>77488.000000</td>\n",
       "      <td>76379.000000</td>\n",
       "      <td>76956.000000</td>\n",
       "      <td>82977.000000</td>\n",
       "    </tr>\n",
       "    <tr>\n",
       "      <th>mean</th>\n",
       "      <td>1.146585</td>\n",
       "      <td>0.647855</td>\n",
       "      <td>0.279881</td>\n",
       "      <td>0.357061</td>\n",
       "      <td>5.325440</td>\n",
       "    </tr>\n",
       "    <tr>\n",
       "      <th>std</th>\n",
       "      <td>0.446510</td>\n",
       "      <td>5.485960</td>\n",
       "      <td>1.544084</td>\n",
       "      <td>2.235625</td>\n",
       "      <td>27.913634</td>\n",
       "    </tr>\n",
       "    <tr>\n",
       "      <th>min</th>\n",
       "      <td>0.000000</td>\n",
       "      <td>0.000000</td>\n",
       "      <td>0.000000</td>\n",
       "      <td>0.000000</td>\n",
       "      <td>0.000000</td>\n",
       "    </tr>\n",
       "    <tr>\n",
       "      <th>25%</th>\n",
       "      <td>1.000000</td>\n",
       "      <td>0.000000</td>\n",
       "      <td>0.000000</td>\n",
       "      <td>0.000000</td>\n",
       "      <td>0.000000</td>\n",
       "    </tr>\n",
       "    <tr>\n",
       "      <th>50%</th>\n",
       "      <td>1.000000</td>\n",
       "      <td>0.000000</td>\n",
       "      <td>0.000000</td>\n",
       "      <td>0.000000</td>\n",
       "      <td>1.000000</td>\n",
       "    </tr>\n",
       "    <tr>\n",
       "      <th>75%</th>\n",
       "      <td>1.000000</td>\n",
       "      <td>0.000000</td>\n",
       "      <td>0.000000</td>\n",
       "      <td>0.000000</td>\n",
       "      <td>2.000000</td>\n",
       "    </tr>\n",
       "    <tr>\n",
       "      <th>max</th>\n",
       "      <td>8.000000</td>\n",
       "      <td>349.000000</td>\n",
       "      <td>161.000000</td>\n",
       "      <td>380.000000</td>\n",
       "      <td>699.000000</td>\n",
       "    </tr>\n",
       "  </tbody>\n",
       "</table>\n",
       "</div>"
      ],
      "text/plain": [
       "       Number.of.Engines  Total.Fatal.Injuries  Total.Serious.Injuries  \\\n",
       "count       82805.000000          77488.000000            76379.000000   \n",
       "mean            1.146585              0.647855                0.279881   \n",
       "std             0.446510              5.485960                1.544084   \n",
       "min             0.000000              0.000000                0.000000   \n",
       "25%             1.000000              0.000000                0.000000   \n",
       "50%             1.000000              0.000000                0.000000   \n",
       "75%             1.000000              0.000000                0.000000   \n",
       "max             8.000000            349.000000              161.000000   \n",
       "\n",
       "       Total.Minor.Injuries  Total.Uninjured  \n",
       "count          76956.000000     82977.000000  \n",
       "mean               0.357061         5.325440  \n",
       "std                2.235625        27.913634  \n",
       "min                0.000000         0.000000  \n",
       "25%                0.000000         0.000000  \n",
       "50%                0.000000         1.000000  \n",
       "75%                0.000000         2.000000  \n",
       "max              380.000000       699.000000  "
      ]
     },
     "execution_count": 117,
     "metadata": {},
     "output_type": "execute_result"
    }
   ],
   "source": [
    "df_raw.describe()\n"
   ]
  },
  {
   "cell_type": "code",
   "execution_count": 118,
   "id": "b8773647",
   "metadata": {},
   "outputs": [
    {
     "data": {
      "application/vnd.microsoft.datawrangler.viewer.v0+json": {
       "columns": [
        {
         "name": "index",
         "rawType": "int64",
         "type": "integer"
        },
        {
         "name": "Event.Id",
         "rawType": "object",
         "type": "string"
        },
        {
         "name": "Investigation.Type",
         "rawType": "object",
         "type": "string"
        },
        {
         "name": "Accident.Number",
         "rawType": "object",
         "type": "string"
        },
        {
         "name": "Event.Date",
         "rawType": "object",
         "type": "string"
        },
        {
         "name": "Location",
         "rawType": "object",
         "type": "string"
        },
        {
         "name": "Country",
         "rawType": "object",
         "type": "string"
        },
        {
         "name": "Latitude",
         "rawType": "object",
         "type": "string"
        },
        {
         "name": "Longitude",
         "rawType": "object",
         "type": "string"
        },
        {
         "name": "Airport.Code",
         "rawType": "object",
         "type": "string"
        },
        {
         "name": "Airport.Name",
         "rawType": "object",
         "type": "string"
        },
        {
         "name": "Injury.Severity",
         "rawType": "object",
         "type": "string"
        },
        {
         "name": "Aircraft.damage",
         "rawType": "object",
         "type": "string"
        },
        {
         "name": "Aircraft.Category",
         "rawType": "object",
         "type": "string"
        },
        {
         "name": "Registration.Number",
         "rawType": "object",
         "type": "string"
        },
        {
         "name": "Make",
         "rawType": "object",
         "type": "string"
        },
        {
         "name": "Model",
         "rawType": "object",
         "type": "string"
        },
        {
         "name": "Amateur.Built",
         "rawType": "object",
         "type": "string"
        },
        {
         "name": "Number.of.Engines",
         "rawType": "float64",
         "type": "float"
        },
        {
         "name": "Engine.Type",
         "rawType": "object",
         "type": "string"
        },
        {
         "name": "FAR.Description",
         "rawType": "object",
         "type": "string"
        },
        {
         "name": "Schedule",
         "rawType": "object",
         "type": "string"
        },
        {
         "name": "Purpose.of.flight",
         "rawType": "object",
         "type": "string"
        },
        {
         "name": "Air.carrier",
         "rawType": "object",
         "type": "string"
        },
        {
         "name": "Total.Fatal.Injuries",
         "rawType": "float64",
         "type": "float"
        },
        {
         "name": "Total.Serious.Injuries",
         "rawType": "float64",
         "type": "float"
        },
        {
         "name": "Total.Minor.Injuries",
         "rawType": "float64",
         "type": "float"
        },
        {
         "name": "Total.Uninjured",
         "rawType": "float64",
         "type": "float"
        },
        {
         "name": "Weather.Condition",
         "rawType": "object",
         "type": "string"
        },
        {
         "name": "Broad.phase.of.flight",
         "rawType": "object",
         "type": "string"
        },
        {
         "name": "Report.Status",
         "rawType": "object",
         "type": "string"
        },
        {
         "name": "Publication.Date",
         "rawType": "object",
         "type": "string"
        }
       ],
       "conversionMethod": "pd.DataFrame",
       "ref": "d78827b0-fa66-48c5-895c-416ec699f73f",
       "rows": [
        [
         "0",
         "20001218X45444",
         "Accident",
         "SEA87LA080",
         "1948-10-24",
         "MOOSE CREEK, ID",
         "United States",
         null,
         null,
         null,
         null,
         "Fatal(2)",
         "Destroyed",
         null,
         "NC6404",
         "Stinson",
         "108-3",
         "No",
         "1.0",
         "Reciprocating",
         null,
         null,
         "Personal",
         null,
         "2.0",
         "0.0",
         "0.0",
         "0.0",
         "UNK",
         "Cruise",
         "Probable Cause",
         null
        ],
        [
         "1",
         "20001218X45447",
         "Accident",
         "LAX94LA336",
         "1962-07-19",
         "BRIDGEPORT, CA",
         "United States",
         null,
         null,
         null,
         null,
         "Fatal(4)",
         "Destroyed",
         null,
         "N5069P",
         "Piper",
         "PA24-180",
         "No",
         "1.0",
         "Reciprocating",
         null,
         null,
         "Personal",
         null,
         "4.0",
         "0.0",
         "0.0",
         "0.0",
         "UNK",
         "Unknown",
         "Probable Cause",
         "19-09-1996"
        ],
        [
         "2",
         "20061025X01555",
         "Accident",
         "NYC07LA005",
         "1974-08-30",
         "Saltville, VA",
         "United States",
         "36.922223",
         "-81.878056",
         null,
         null,
         "Fatal(3)",
         "Destroyed",
         null,
         "N5142R",
         "Cessna",
         "172M",
         "No",
         "1.0",
         "Reciprocating",
         null,
         null,
         "Personal",
         null,
         "3.0",
         null,
         null,
         null,
         "IMC",
         "Cruise",
         "Probable Cause",
         "26-02-2007"
        ],
        [
         "3",
         "20001218X45448",
         "Accident",
         "LAX96LA321",
         "1977-06-19",
         "EUREKA, CA",
         "United States",
         null,
         null,
         null,
         null,
         "Fatal(2)",
         "Destroyed",
         null,
         "N1168J",
         "Rockwell",
         "112",
         "No",
         "1.0",
         "Reciprocating",
         null,
         null,
         "Personal",
         null,
         "2.0",
         "0.0",
         "0.0",
         "0.0",
         "IMC",
         "Cruise",
         "Probable Cause",
         "12-09-2000"
        ],
        [
         "4",
         "20041105X01764",
         "Accident",
         "CHI79FA064",
         "1979-08-02",
         "Canton, OH",
         "United States",
         null,
         null,
         null,
         null,
         "Fatal(1)",
         "Destroyed",
         null,
         "N15NY",
         "Cessna",
         "501",
         "No",
         null,
         null,
         null,
         null,
         "Personal",
         null,
         "1.0",
         "2.0",
         null,
         "0.0",
         "VMC",
         "Approach",
         "Probable Cause",
         "16-04-1980"
        ]
       ],
       "shape": {
        "columns": 31,
        "rows": 5
       }
      },
      "text/html": [
       "<div>\n",
       "<style scoped>\n",
       "    .dataframe tbody tr th:only-of-type {\n",
       "        vertical-align: middle;\n",
       "    }\n",
       "\n",
       "    .dataframe tbody tr th {\n",
       "        vertical-align: top;\n",
       "    }\n",
       "\n",
       "    .dataframe thead th {\n",
       "        text-align: right;\n",
       "    }\n",
       "</style>\n",
       "<table border=\"1\" class=\"dataframe\">\n",
       "  <thead>\n",
       "    <tr style=\"text-align: right;\">\n",
       "      <th></th>\n",
       "      <th>Event.Id</th>\n",
       "      <th>Investigation.Type</th>\n",
       "      <th>Accident.Number</th>\n",
       "      <th>Event.Date</th>\n",
       "      <th>Location</th>\n",
       "      <th>Country</th>\n",
       "      <th>Latitude</th>\n",
       "      <th>Longitude</th>\n",
       "      <th>Airport.Code</th>\n",
       "      <th>Airport.Name</th>\n",
       "      <th>...</th>\n",
       "      <th>Purpose.of.flight</th>\n",
       "      <th>Air.carrier</th>\n",
       "      <th>Total.Fatal.Injuries</th>\n",
       "      <th>Total.Serious.Injuries</th>\n",
       "      <th>Total.Minor.Injuries</th>\n",
       "      <th>Total.Uninjured</th>\n",
       "      <th>Weather.Condition</th>\n",
       "      <th>Broad.phase.of.flight</th>\n",
       "      <th>Report.Status</th>\n",
       "      <th>Publication.Date</th>\n",
       "    </tr>\n",
       "  </thead>\n",
       "  <tbody>\n",
       "    <tr>\n",
       "      <th>0</th>\n",
       "      <td>20001218X45444</td>\n",
       "      <td>Accident</td>\n",
       "      <td>SEA87LA080</td>\n",
       "      <td>1948-10-24</td>\n",
       "      <td>MOOSE CREEK, ID</td>\n",
       "      <td>United States</td>\n",
       "      <td>NaN</td>\n",
       "      <td>NaN</td>\n",
       "      <td>NaN</td>\n",
       "      <td>NaN</td>\n",
       "      <td>...</td>\n",
       "      <td>Personal</td>\n",
       "      <td>NaN</td>\n",
       "      <td>2.0</td>\n",
       "      <td>0.0</td>\n",
       "      <td>0.0</td>\n",
       "      <td>0.0</td>\n",
       "      <td>UNK</td>\n",
       "      <td>Cruise</td>\n",
       "      <td>Probable Cause</td>\n",
       "      <td>NaN</td>\n",
       "    </tr>\n",
       "    <tr>\n",
       "      <th>1</th>\n",
       "      <td>20001218X45447</td>\n",
       "      <td>Accident</td>\n",
       "      <td>LAX94LA336</td>\n",
       "      <td>1962-07-19</td>\n",
       "      <td>BRIDGEPORT, CA</td>\n",
       "      <td>United States</td>\n",
       "      <td>NaN</td>\n",
       "      <td>NaN</td>\n",
       "      <td>NaN</td>\n",
       "      <td>NaN</td>\n",
       "      <td>...</td>\n",
       "      <td>Personal</td>\n",
       "      <td>NaN</td>\n",
       "      <td>4.0</td>\n",
       "      <td>0.0</td>\n",
       "      <td>0.0</td>\n",
       "      <td>0.0</td>\n",
       "      <td>UNK</td>\n",
       "      <td>Unknown</td>\n",
       "      <td>Probable Cause</td>\n",
       "      <td>19-09-1996</td>\n",
       "    </tr>\n",
       "    <tr>\n",
       "      <th>2</th>\n",
       "      <td>20061025X01555</td>\n",
       "      <td>Accident</td>\n",
       "      <td>NYC07LA005</td>\n",
       "      <td>1974-08-30</td>\n",
       "      <td>Saltville, VA</td>\n",
       "      <td>United States</td>\n",
       "      <td>36.922223</td>\n",
       "      <td>-81.878056</td>\n",
       "      <td>NaN</td>\n",
       "      <td>NaN</td>\n",
       "      <td>...</td>\n",
       "      <td>Personal</td>\n",
       "      <td>NaN</td>\n",
       "      <td>3.0</td>\n",
       "      <td>NaN</td>\n",
       "      <td>NaN</td>\n",
       "      <td>NaN</td>\n",
       "      <td>IMC</td>\n",
       "      <td>Cruise</td>\n",
       "      <td>Probable Cause</td>\n",
       "      <td>26-02-2007</td>\n",
       "    </tr>\n",
       "    <tr>\n",
       "      <th>3</th>\n",
       "      <td>20001218X45448</td>\n",
       "      <td>Accident</td>\n",
       "      <td>LAX96LA321</td>\n",
       "      <td>1977-06-19</td>\n",
       "      <td>EUREKA, CA</td>\n",
       "      <td>United States</td>\n",
       "      <td>NaN</td>\n",
       "      <td>NaN</td>\n",
       "      <td>NaN</td>\n",
       "      <td>NaN</td>\n",
       "      <td>...</td>\n",
       "      <td>Personal</td>\n",
       "      <td>NaN</td>\n",
       "      <td>2.0</td>\n",
       "      <td>0.0</td>\n",
       "      <td>0.0</td>\n",
       "      <td>0.0</td>\n",
       "      <td>IMC</td>\n",
       "      <td>Cruise</td>\n",
       "      <td>Probable Cause</td>\n",
       "      <td>12-09-2000</td>\n",
       "    </tr>\n",
       "    <tr>\n",
       "      <th>4</th>\n",
       "      <td>20041105X01764</td>\n",
       "      <td>Accident</td>\n",
       "      <td>CHI79FA064</td>\n",
       "      <td>1979-08-02</td>\n",
       "      <td>Canton, OH</td>\n",
       "      <td>United States</td>\n",
       "      <td>NaN</td>\n",
       "      <td>NaN</td>\n",
       "      <td>NaN</td>\n",
       "      <td>NaN</td>\n",
       "      <td>...</td>\n",
       "      <td>Personal</td>\n",
       "      <td>NaN</td>\n",
       "      <td>1.0</td>\n",
       "      <td>2.0</td>\n",
       "      <td>NaN</td>\n",
       "      <td>0.0</td>\n",
       "      <td>VMC</td>\n",
       "      <td>Approach</td>\n",
       "      <td>Probable Cause</td>\n",
       "      <td>16-04-1980</td>\n",
       "    </tr>\n",
       "  </tbody>\n",
       "</table>\n",
       "<p>5 rows × 31 columns</p>\n",
       "</div>"
      ],
      "text/plain": [
       "         Event.Id Investigation.Type Accident.Number  Event.Date  \\\n",
       "0  20001218X45444           Accident      SEA87LA080  1948-10-24   \n",
       "1  20001218X45447           Accident      LAX94LA336  1962-07-19   \n",
       "2  20061025X01555           Accident      NYC07LA005  1974-08-30   \n",
       "3  20001218X45448           Accident      LAX96LA321  1977-06-19   \n",
       "4  20041105X01764           Accident      CHI79FA064  1979-08-02   \n",
       "\n",
       "          Location        Country   Latitude  Longitude Airport.Code  \\\n",
       "0  MOOSE CREEK, ID  United States        NaN        NaN          NaN   \n",
       "1   BRIDGEPORT, CA  United States        NaN        NaN          NaN   \n",
       "2    Saltville, VA  United States  36.922223 -81.878056          NaN   \n",
       "3       EUREKA, CA  United States        NaN        NaN          NaN   \n",
       "4       Canton, OH  United States        NaN        NaN          NaN   \n",
       "\n",
       "  Airport.Name  ... Purpose.of.flight Air.carrier Total.Fatal.Injuries  \\\n",
       "0          NaN  ...          Personal         NaN                  2.0   \n",
       "1          NaN  ...          Personal         NaN                  4.0   \n",
       "2          NaN  ...          Personal         NaN                  3.0   \n",
       "3          NaN  ...          Personal         NaN                  2.0   \n",
       "4          NaN  ...          Personal         NaN                  1.0   \n",
       "\n",
       "  Total.Serious.Injuries Total.Minor.Injuries Total.Uninjured  \\\n",
       "0                    0.0                  0.0             0.0   \n",
       "1                    0.0                  0.0             0.0   \n",
       "2                    NaN                  NaN             NaN   \n",
       "3                    0.0                  0.0             0.0   \n",
       "4                    2.0                  NaN             0.0   \n",
       "\n",
       "  Weather.Condition  Broad.phase.of.flight   Report.Status Publication.Date  \n",
       "0               UNK                 Cruise  Probable Cause              NaN  \n",
       "1               UNK                Unknown  Probable Cause       19-09-1996  \n",
       "2               IMC                 Cruise  Probable Cause       26-02-2007  \n",
       "3               IMC                 Cruise  Probable Cause       12-09-2000  \n",
       "4               VMC               Approach  Probable Cause       16-04-1980  \n",
       "\n",
       "[5 rows x 31 columns]"
      ]
     },
     "execution_count": 118,
     "metadata": {},
     "output_type": "execute_result"
    }
   ],
   "source": [
    "df_raw.head(5)\n"
   ]
  },
  {
   "cell_type": "code",
   "execution_count": 119,
   "id": "36f77aa8",
   "metadata": {},
   "outputs": [
    {
     "data": {
      "application/vnd.microsoft.datawrangler.viewer.v0+json": {
       "columns": [
        {
         "name": "index",
         "rawType": "int64",
         "type": "integer"
        },
        {
         "name": "Event.Id",
         "rawType": "object",
         "type": "string"
        },
        {
         "name": "Investigation.Type",
         "rawType": "object",
         "type": "string"
        },
        {
         "name": "Accident.Number",
         "rawType": "object",
         "type": "string"
        },
        {
         "name": "Event.Date",
         "rawType": "object",
         "type": "string"
        },
        {
         "name": "Location",
         "rawType": "object",
         "type": "string"
        },
        {
         "name": "Country",
         "rawType": "object",
         "type": "string"
        },
        {
         "name": "Latitude",
         "rawType": "object",
         "type": "string"
        },
        {
         "name": "Longitude",
         "rawType": "object",
         "type": "string"
        },
        {
         "name": "Airport.Code",
         "rawType": "object",
         "type": "string"
        },
        {
         "name": "Airport.Name",
         "rawType": "object",
         "type": "string"
        },
        {
         "name": "Injury.Severity",
         "rawType": "object",
         "type": "string"
        },
        {
         "name": "Aircraft.damage",
         "rawType": "object",
         "type": "string"
        },
        {
         "name": "Aircraft.Category",
         "rawType": "object",
         "type": "string"
        },
        {
         "name": "Registration.Number",
         "rawType": "object",
         "type": "string"
        },
        {
         "name": "Make",
         "rawType": "object",
         "type": "string"
        },
        {
         "name": "Model",
         "rawType": "object",
         "type": "string"
        },
        {
         "name": "Amateur.Built",
         "rawType": "object",
         "type": "string"
        },
        {
         "name": "Number.of.Engines",
         "rawType": "float64",
         "type": "float"
        },
        {
         "name": "Engine.Type",
         "rawType": "object",
         "type": "string"
        },
        {
         "name": "FAR.Description",
         "rawType": "object",
         "type": "string"
        },
        {
         "name": "Schedule",
         "rawType": "object",
         "type": "string"
        },
        {
         "name": "Purpose.of.flight",
         "rawType": "object",
         "type": "string"
        },
        {
         "name": "Air.carrier",
         "rawType": "object",
         "type": "string"
        },
        {
         "name": "Total.Fatal.Injuries",
         "rawType": "float64",
         "type": "float"
        },
        {
         "name": "Total.Serious.Injuries",
         "rawType": "float64",
         "type": "float"
        },
        {
         "name": "Total.Minor.Injuries",
         "rawType": "float64",
         "type": "float"
        },
        {
         "name": "Total.Uninjured",
         "rawType": "float64",
         "type": "float"
        },
        {
         "name": "Weather.Condition",
         "rawType": "object",
         "type": "string"
        },
        {
         "name": "Broad.phase.of.flight",
         "rawType": "object",
         "type": "string"
        },
        {
         "name": "Report.Status",
         "rawType": "object",
         "type": "string"
        },
        {
         "name": "Publication.Date",
         "rawType": "object",
         "type": "string"
        }
       ],
       "conversionMethod": "pd.DataFrame",
       "ref": "9edc9314-0b3e-44bc-88aa-aff4333c524b",
       "rows": [
        [
         "90343",
         "20221227106491",
         "Accident",
         "ERA23LA093",
         "2022-12-26",
         "Annapolis, MD",
         "United States",
         null,
         null,
         null,
         null,
         "Minor",
         null,
         null,
         "N1867H",
         "PIPER",
         "PA-28-151",
         "No",
         null,
         null,
         "091",
         null,
         "Personal",
         null,
         "0.0",
         "1.0",
         "0.0",
         "0.0",
         null,
         null,
         null,
         "29-12-2022"
        ],
        [
         "90344",
         "20221227106494",
         "Accident",
         "ERA23LA095",
         "2022-12-26",
         "Hampton, NH",
         "United States",
         null,
         null,
         null,
         null,
         null,
         null,
         null,
         "N2895Z",
         "BELLANCA",
         "7ECA",
         "No",
         null,
         null,
         null,
         null,
         null,
         null,
         "0.0",
         "0.0",
         "0.0",
         "0.0",
         null,
         null,
         null,
         null
        ],
        [
         "90345",
         "20221227106497",
         "Accident",
         "WPR23LA075",
         "2022-12-26",
         "Payson, AZ",
         "United States",
         "341525N",
         "1112021W",
         "PAN",
         "PAYSON",
         "Non-Fatal",
         "Substantial",
         "Airplane",
         "N749PJ",
         "AMERICAN CHAMPION AIRCRAFT",
         "8GCBC",
         "No",
         "1.0",
         null,
         "091",
         null,
         "Personal",
         null,
         "0.0",
         "0.0",
         "0.0",
         "1.0",
         "VMC",
         null,
         null,
         "27-12-2022"
        ],
        [
         "90346",
         "20221227106498",
         "Accident",
         "WPR23LA076",
         "2022-12-26",
         "Morgan, UT",
         "United States",
         null,
         null,
         null,
         null,
         null,
         null,
         null,
         "N210CU",
         "CESSNA",
         "210N",
         "No",
         null,
         null,
         "091",
         null,
         "Personal",
         "MC CESSNA 210N LLC",
         "0.0",
         "0.0",
         "0.0",
         "0.0",
         null,
         null,
         null,
         null
        ],
        [
         "90347",
         "20221230106513",
         "Accident",
         "ERA23LA097",
         "2022-12-29",
         "Athens, GA",
         "United States",
         null,
         null,
         null,
         null,
         "Minor",
         null,
         null,
         "N9026P",
         "PIPER",
         "PA-24-260",
         "No",
         null,
         null,
         "091",
         null,
         "Personal",
         null,
         "0.0",
         "1.0",
         "0.0",
         "1.0",
         null,
         null,
         null,
         "30-12-2022"
        ]
       ],
       "shape": {
        "columns": 31,
        "rows": 5
       }
      },
      "text/html": [
       "<div>\n",
       "<style scoped>\n",
       "    .dataframe tbody tr th:only-of-type {\n",
       "        vertical-align: middle;\n",
       "    }\n",
       "\n",
       "    .dataframe tbody tr th {\n",
       "        vertical-align: top;\n",
       "    }\n",
       "\n",
       "    .dataframe thead th {\n",
       "        text-align: right;\n",
       "    }\n",
       "</style>\n",
       "<table border=\"1\" class=\"dataframe\">\n",
       "  <thead>\n",
       "    <tr style=\"text-align: right;\">\n",
       "      <th></th>\n",
       "      <th>Event.Id</th>\n",
       "      <th>Investigation.Type</th>\n",
       "      <th>Accident.Number</th>\n",
       "      <th>Event.Date</th>\n",
       "      <th>Location</th>\n",
       "      <th>Country</th>\n",
       "      <th>Latitude</th>\n",
       "      <th>Longitude</th>\n",
       "      <th>Airport.Code</th>\n",
       "      <th>Airport.Name</th>\n",
       "      <th>...</th>\n",
       "      <th>Purpose.of.flight</th>\n",
       "      <th>Air.carrier</th>\n",
       "      <th>Total.Fatal.Injuries</th>\n",
       "      <th>Total.Serious.Injuries</th>\n",
       "      <th>Total.Minor.Injuries</th>\n",
       "      <th>Total.Uninjured</th>\n",
       "      <th>Weather.Condition</th>\n",
       "      <th>Broad.phase.of.flight</th>\n",
       "      <th>Report.Status</th>\n",
       "      <th>Publication.Date</th>\n",
       "    </tr>\n",
       "  </thead>\n",
       "  <tbody>\n",
       "    <tr>\n",
       "      <th>90343</th>\n",
       "      <td>20221227106491</td>\n",
       "      <td>Accident</td>\n",
       "      <td>ERA23LA093</td>\n",
       "      <td>2022-12-26</td>\n",
       "      <td>Annapolis, MD</td>\n",
       "      <td>United States</td>\n",
       "      <td>NaN</td>\n",
       "      <td>NaN</td>\n",
       "      <td>NaN</td>\n",
       "      <td>NaN</td>\n",
       "      <td>...</td>\n",
       "      <td>Personal</td>\n",
       "      <td>NaN</td>\n",
       "      <td>0.0</td>\n",
       "      <td>1.0</td>\n",
       "      <td>0.0</td>\n",
       "      <td>0.0</td>\n",
       "      <td>NaN</td>\n",
       "      <td>NaN</td>\n",
       "      <td>NaN</td>\n",
       "      <td>29-12-2022</td>\n",
       "    </tr>\n",
       "    <tr>\n",
       "      <th>90344</th>\n",
       "      <td>20221227106494</td>\n",
       "      <td>Accident</td>\n",
       "      <td>ERA23LA095</td>\n",
       "      <td>2022-12-26</td>\n",
       "      <td>Hampton, NH</td>\n",
       "      <td>United States</td>\n",
       "      <td>NaN</td>\n",
       "      <td>NaN</td>\n",
       "      <td>NaN</td>\n",
       "      <td>NaN</td>\n",
       "      <td>...</td>\n",
       "      <td>NaN</td>\n",
       "      <td>NaN</td>\n",
       "      <td>0.0</td>\n",
       "      <td>0.0</td>\n",
       "      <td>0.0</td>\n",
       "      <td>0.0</td>\n",
       "      <td>NaN</td>\n",
       "      <td>NaN</td>\n",
       "      <td>NaN</td>\n",
       "      <td>NaN</td>\n",
       "    </tr>\n",
       "    <tr>\n",
       "      <th>90345</th>\n",
       "      <td>20221227106497</td>\n",
       "      <td>Accident</td>\n",
       "      <td>WPR23LA075</td>\n",
       "      <td>2022-12-26</td>\n",
       "      <td>Payson, AZ</td>\n",
       "      <td>United States</td>\n",
       "      <td>341525N</td>\n",
       "      <td>1112021W</td>\n",
       "      <td>PAN</td>\n",
       "      <td>PAYSON</td>\n",
       "      <td>...</td>\n",
       "      <td>Personal</td>\n",
       "      <td>NaN</td>\n",
       "      <td>0.0</td>\n",
       "      <td>0.0</td>\n",
       "      <td>0.0</td>\n",
       "      <td>1.0</td>\n",
       "      <td>VMC</td>\n",
       "      <td>NaN</td>\n",
       "      <td>NaN</td>\n",
       "      <td>27-12-2022</td>\n",
       "    </tr>\n",
       "    <tr>\n",
       "      <th>90346</th>\n",
       "      <td>20221227106498</td>\n",
       "      <td>Accident</td>\n",
       "      <td>WPR23LA076</td>\n",
       "      <td>2022-12-26</td>\n",
       "      <td>Morgan, UT</td>\n",
       "      <td>United States</td>\n",
       "      <td>NaN</td>\n",
       "      <td>NaN</td>\n",
       "      <td>NaN</td>\n",
       "      <td>NaN</td>\n",
       "      <td>...</td>\n",
       "      <td>Personal</td>\n",
       "      <td>MC CESSNA 210N LLC</td>\n",
       "      <td>0.0</td>\n",
       "      <td>0.0</td>\n",
       "      <td>0.0</td>\n",
       "      <td>0.0</td>\n",
       "      <td>NaN</td>\n",
       "      <td>NaN</td>\n",
       "      <td>NaN</td>\n",
       "      <td>NaN</td>\n",
       "    </tr>\n",
       "    <tr>\n",
       "      <th>90347</th>\n",
       "      <td>20221230106513</td>\n",
       "      <td>Accident</td>\n",
       "      <td>ERA23LA097</td>\n",
       "      <td>2022-12-29</td>\n",
       "      <td>Athens, GA</td>\n",
       "      <td>United States</td>\n",
       "      <td>NaN</td>\n",
       "      <td>NaN</td>\n",
       "      <td>NaN</td>\n",
       "      <td>NaN</td>\n",
       "      <td>...</td>\n",
       "      <td>Personal</td>\n",
       "      <td>NaN</td>\n",
       "      <td>0.0</td>\n",
       "      <td>1.0</td>\n",
       "      <td>0.0</td>\n",
       "      <td>1.0</td>\n",
       "      <td>NaN</td>\n",
       "      <td>NaN</td>\n",
       "      <td>NaN</td>\n",
       "      <td>30-12-2022</td>\n",
       "    </tr>\n",
       "  </tbody>\n",
       "</table>\n",
       "<p>5 rows × 31 columns</p>\n",
       "</div>"
      ],
      "text/plain": [
       "             Event.Id Investigation.Type Accident.Number  Event.Date  \\\n",
       "90343  20221227106491           Accident      ERA23LA093  2022-12-26   \n",
       "90344  20221227106494           Accident      ERA23LA095  2022-12-26   \n",
       "90345  20221227106497           Accident      WPR23LA075  2022-12-26   \n",
       "90346  20221227106498           Accident      WPR23LA076  2022-12-26   \n",
       "90347  20221230106513           Accident      ERA23LA097  2022-12-29   \n",
       "\n",
       "            Location        Country Latitude Longitude Airport.Code  \\\n",
       "90343  Annapolis, MD  United States      NaN       NaN          NaN   \n",
       "90344    Hampton, NH  United States      NaN       NaN          NaN   \n",
       "90345     Payson, AZ  United States  341525N  1112021W          PAN   \n",
       "90346     Morgan, UT  United States      NaN       NaN          NaN   \n",
       "90347     Athens, GA  United States      NaN       NaN          NaN   \n",
       "\n",
       "      Airport.Name  ... Purpose.of.flight         Air.carrier  \\\n",
       "90343          NaN  ...          Personal                 NaN   \n",
       "90344          NaN  ...               NaN                 NaN   \n",
       "90345       PAYSON  ...          Personal                 NaN   \n",
       "90346          NaN  ...          Personal  MC CESSNA 210N LLC   \n",
       "90347          NaN  ...          Personal                 NaN   \n",
       "\n",
       "      Total.Fatal.Injuries Total.Serious.Injuries Total.Minor.Injuries  \\\n",
       "90343                  0.0                    1.0                  0.0   \n",
       "90344                  0.0                    0.0                  0.0   \n",
       "90345                  0.0                    0.0                  0.0   \n",
       "90346                  0.0                    0.0                  0.0   \n",
       "90347                  0.0                    1.0                  0.0   \n",
       "\n",
       "      Total.Uninjured Weather.Condition  Broad.phase.of.flight Report.Status  \\\n",
       "90343             0.0               NaN                    NaN           NaN   \n",
       "90344             0.0               NaN                    NaN           NaN   \n",
       "90345             1.0               VMC                    NaN           NaN   \n",
       "90346             0.0               NaN                    NaN           NaN   \n",
       "90347             1.0               NaN                    NaN           NaN   \n",
       "\n",
       "      Publication.Date  \n",
       "90343       29-12-2022  \n",
       "90344              NaN  \n",
       "90345       27-12-2022  \n",
       "90346              NaN  \n",
       "90347       30-12-2022  \n",
       "\n",
       "[5 rows x 31 columns]"
      ]
     },
     "execution_count": 119,
     "metadata": {},
     "output_type": "execute_result"
    }
   ],
   "source": [
    "df_raw.tail(5)\n"
   ]
  },
  {
   "cell_type": "code",
   "execution_count": 120,
   "id": "e3f02bbb",
   "metadata": {},
   "outputs": [
    {
     "data": {
      "text/plain": [
       "(90348, 31)"
      ]
     },
     "execution_count": 120,
     "metadata": {},
     "output_type": "execute_result"
    }
   ],
   "source": [
    "df_raw.shape"
   ]
  },
  {
   "cell_type": "code",
   "execution_count": 121,
   "id": "f009f0bf",
   "metadata": {},
   "outputs": [
    {
     "name": "stdout",
     "output_type": "stream",
     "text": [
      "                        Missing Values  Percentage (%)\n",
      "Event.Id                          1459        1.614867\n",
      "Investigation.Type                   0        0.000000\n",
      "Accident.Number                   1459        1.614867\n",
      "Event.Date                        1459        1.614867\n",
      "Location                          1511        1.672422\n",
      "Country                           1685        1.865011\n",
      "Latitude                         55966       61.944924\n",
      "Longitude                        55975       61.954886\n",
      "Airport.Code                     40099       44.382831\n",
      "Airport.Name                     37558       41.570372\n",
      "Injury.Severity                   2459        2.721698\n",
      "Aircraft.damage                   4653        5.150086\n",
      "Aircraft.Category                58061       64.263736\n",
      "Registration.Number               2776        3.072564\n",
      "Make                              1522        1.684597\n",
      "Model                             1551        1.716695\n",
      "Amateur.Built                     1561        1.727764\n",
      "Number.of.Engines                 7543        8.348829\n",
      "Engine.Type                       8536        9.447913\n",
      "FAR.Description                  58325       64.555939\n",
      "Schedule                         77766       86.073848\n",
      "Purpose.of.flight                 7651        8.468367\n",
      "Air.carrier                      73700       81.573471\n",
      "Total.Fatal.Injuries             12860       14.233851\n",
      "Total.Serious.Injuries           13969       15.461327\n",
      "Total.Minor.Injuries             13392       14.822686\n",
      "Total.Uninjured                   7371        8.158454\n",
      "Weather.Condition                 5951        6.586753\n",
      "Broad.phase.of.flight            28624       31.681941\n",
      "Report.Status                     7840        8.677558\n",
      "Publication.Date                 16689       18.471909\n"
     ]
    }
   ],
   "source": [
    "#Missing Values Summary\n",
    "missing_summary = df_raw.isnull().sum()\n",
    "missing_percentage = (missing_summary / len(df_raw)) * 100\n",
    "\n",
    "missing_df = pd.DataFrame({\n",
    "    'Missing Values': missing_summary,\n",
    "    'Percentage (%)': missing_percentage\n",
    "})\n",
    "\n",
    "print(missing_df)\n"
   ]
  },
  {
   "cell_type": "markdown",
   "id": "f111fceb",
   "metadata": {},
   "source": [
    "###  Data Cleaning and Preparation\n",
    "#### Cleaning the data to make it suitable for analysis. This will involve:\n",
    "**.** **Standardizing column names*\n",
    "**.** **Dropping irrelevant column*\n",
    " **.** **Correcting data types*\n",
    " **.** **Handling missing values appropriately (dropping rows/imputing)*\n",
    " **.** **Standardizing categorical values*\n",
    " **.** **Feature engineering (creating useful columns)*"
   ]
  },
  {
   "cell_type": "code",
   "execution_count": 122,
   "id": "ad53a92a",
   "metadata": {},
   "outputs": [
    {
     "name": "stdout",
     "output_type": "stream",
     "text": [
      "['event.id', 'investigation.type', 'accident.number', 'event.date', 'location', 'country', 'latitude', 'longitude', 'airport.code', 'airport.name', 'injury.severity', 'aircraft.damage', 'aircraft.category', 'registration.number', 'make', 'model', 'amateur.built', 'number.of.engines', 'engine.type', 'far.description', 'schedule', 'purpose.of.flight', 'air.carrier', 'total.fatal.injuries', 'total.serious.injuries', 'total.minor.injuries', 'total.uninjured', 'weather.condition', 'broad.phase.of.flight', 'report.status', 'publication.date']\n"
     ]
    }
   ],
   "source": [
    "#Create a Working Copy\n",
    "df_cleaned = df_raw.copy()\n",
    "\n",
    "#Standardizing Column Names\n",
    "df_cleaned.columns = df_cleaned.columns.str.lower()\n",
    "print(df_cleaned.columns.to_list())"
   ]
  },
  {
   "cell_type": "code",
   "execution_count": 123,
   "id": "f2903dcc",
   "metadata": {},
   "outputs": [
    {
     "name": "stdout",
     "output_type": "stream",
     "text": [
      "['investigation.type', 'event.date', 'location', 'country', 'injury.severity', 'aircraft.damage', 'aircraft.category', 'make', 'model', 'amateur.built', 'number.of.engines', 'engine.type', 'purpose.of.flight', 'total.fatal.injuries', 'total.serious.injuries', 'total.minor.injuries', 'total.uninjured', 'weather.condition', 'broad.phase.of.flight', 'report.status']\n"
     ]
    }
   ],
   "source": [
    "#Dropping Irrelevant or Excessively Missing Columns\n",
    "cols_to_drop = ['event.id', 'accident.number', 'latitude', 'longitude', 'airport.code', 'airport.name',\n",
    "                    'registration.number', 'far.description', 'schedule', 'air.carrier', 'publication.date']\n",
    "df_cleaned.drop(columns=cols_to_drop, errors='ignore', inplace=True)\n",
    "print(df_cleaned.columns.to_list())"
   ]
  },
  {
   "cell_type": "code",
   "execution_count": 124,
   "id": "566f62c5",
   "metadata": {},
   "outputs": [],
   "source": [
    " # Converting numeric fields to numeric data type\n",
    "numeric_cols = ['number.of.engines', 'total.fatal.injuries', 'total.serious.injuries', 'total.minor.injuries', 'total.uninjured']\n",
    "df_cleaned[numeric_cols] = df_cleaned[numeric_cols].apply(pd.to_numeric, errors='coerce')"
   ]
  },
  {
   "cell_type": "code",
   "execution_count": 125,
   "id": "b7b41d0a",
   "metadata": {},
   "outputs": [],
   "source": [
    " # Droping rows with missing key details for analysis\n",
    "required_cols = ['make', 'model', 'injury.severity', 'aircraft.damage']\n",
    "df_cleaned.dropna(subset=required_cols, inplace=True)"
   ]
  },
  {
   "cell_type": "code",
   "execution_count": 126,
   "id": "f983c4c4",
   "metadata": {},
   "outputs": [
    {
     "name": "stdout",
     "output_type": "stream",
     "text": [
      "\n",
      "Shape after handling invalid dates: (85121, 20)\n"
     ]
    }
   ],
   "source": [
    "#Correct Data Types (Convertint date column to datetime)\n",
    "df_cleaned['event.date'] = pd.to_datetime(df_cleaned['event.date'], format='%Y-%m-%d')\n",
    "\n",
    "#Dropping rows where the essential date couldn't be parsed\n",
    "df_cleaned.dropna(subset=['event.date'], inplace=True)\n",
    "print(f\"\\nShape after handling invalid dates: {df_cleaned.shape}\")"
   ]
  },
  {
   "cell_type": "code",
   "execution_count": 127,
   "id": "767372bf",
   "metadata": {},
   "outputs": [],
   "source": [
    "# Identify potential numeric columns (handle NaNs before int conversion)\n",
    "numeric_cols = ['number.of.engines', 'total.fatal.injuries', 'total.serious.injuries', 'total.minor.injuries', 'total.uninjured']\n",
    "\n",
    "# Convert numeric columns to integer\n",
    "for col in numeric_cols:\n",
    "\t df_cleaned[col].fillna(0, inplace=True)\n",
    "df_cleaned[col] = df_cleaned[col].astype(int)\t\n",
    "df_cleaned[col] = pd.to_numeric(df_cleaned[col])\n"
   ]
  },
  {
   "cell_type": "markdown",
   "id": "5f6cf3c6",
   "metadata": {},
   "source": [
    "# Handling Missing Values"
   ]
  },
  {
   "cell_type": "code",
   "execution_count": 128,
   "id": "1cead65e",
   "metadata": {},
   "outputs": [
    {
     "name": "stdout",
     "output_type": "stream",
     "text": [
      "\n",
      "--- Remaining Missing Values Check ---\n",
      "engine.type              5408\n",
      "report.status            4861\n",
      "event.date                  0\n",
      "broad.phase.of.flight       0\n",
      "weather.condition           0\n",
      "dtype: int64\n"
     ]
    }
   ],
   "source": [
    "  # Engine Info:** Impute with mode\n",
    "\n",
    "df_cleaned['number.of.engines'].fillna(df_cleaned['number.of.engines'].mode()[0], inplace=True)\n",
    "df_cleaned['number.of.engines'] = df_cleaned['number.of.engines'].astype('Int64')\n",
    "\n",
    "# **Critical Columns:** Fill categorical values with 'Unknown' in missing Make, Model, Injury Severity, Aircraft Damage\n",
    "categorical_cols_to_fill = ['purpose.of.flight', 'broad.phase.of.flight', 'weather.condition', 'country', 'location', 'amateur.built', 'aircraft.category']\n",
    "for col in categorical_cols_to_fill:\n",
    "        if col in df_cleaned.columns:\n",
    "            df_cleaned[col].fillna('Unknown', inplace=True)\n",
    "\n",
    " # Verify remaining missing values\n",
    "print(\"\\n--- Remaining Missing Values Check ---\")\n",
    "print(df_cleaned.isnull().sum().sort_values(ascending=False).head())"
   ]
  },
  {
   "cell_type": "markdown",
   "id": "506f3fe3",
   "metadata": {},
   "source": [
    "### Standardize Categorical Values\n",
    " Clean critical text fields like Make, Model, Severity, Damage, Purpose"
   ]
  },
  {
   "cell_type": "code",
   "execution_count": 129,
   "id": "d0b34de0",
   "metadata": {},
   "outputs": [],
   "source": [
    "     # Standardize text values\n",
    "for col in ['make', 'model', 'injury_severity', 'aircraft_damage', 'purpose_of_flight']:\n",
    "        if col in df_cleaned:\n",
    "            df_cleaned[col] = df_cleaned[col].str.upper().str.strip()\n"
   ]
  },
  {
   "cell_type": "markdown",
   "id": "2a45c8e2",
   "metadata": {},
   "source": [
    "### Feature Engineering\n",
    "Creating columns useful and narrowing down the dataset to recent, relevant records aligned with business goals for analysis\n"
   ]
  },
  {
   "cell_type": "code",
   "execution_count": 130,
   "id": "2c57d80d",
   "metadata": {},
   "outputs": [],
   "source": [
    "# Year and Month\n",
    "df_cleaned['year'] = df_cleaned['event.date'].dt.year\n",
    "df_cleaned['month'] = df_cleaned['event.date'].dt.month\n",
    "\n",
    " # Combined Aircraft Type (Make + Model)\n",
    "df_cleaned['combined_aircraft_type'] = df_cleaned['make'] + ' ' + df_cleaned['model']\n",
    "\n",
    "if not df_cleaned.empty:\n",
    "    df_filtered = df_cleaned.copy()\n",
    "    df_filtered = df_filtered[df_filtered['year'] >= 1985]\n",
    "    if 'purpose_of_flight' in df_filtered:\n",
    "        valid_purposes = ['PERSONAL', 'INSTRUCTIONAL', 'BUSINESS', 'COMMERCIAL', 'POSITIONING', 'FERRY', 'EXECUTIVE/CORPORATE', 'AERIAL APPLICATION', 'AIR RACE/SHOW']\n",
    "        df_filtered = df_filtered[df_filtered['purpose.of.flight'].isin(valid_purposes)]\n",
    "    if 'amateur_built' in df_filtered:\n",
    "        df_filtered = df_filtered[df_filtered['amateur.built'] != 'YES']\n",
    "    if 'investigation_type' in df_filtered:\n",
    "        df_filtered = df_filtered[df_filtered['investigation.type'] == 'ACCIDENT']\n",
    "if 'injury_severity' in df_filtered:\n",
    "\t\t  df_filtered = df_filtered[df_filtered['injury.severity'] != 'UNKNOWN']\n",
    "if 'aircraft_damage' in df_filtered:\n",
    "\t\t  df_filtered = df_filtered[df_filtered['aircraft.damage'] != 'UNKNOWN']\n"
   ]
  },
  {
   "cell_type": "markdown",
   "id": "4c3281cd",
   "metadata": {},
   "source": [
    "# Exploratory Data Analysis (EDA) on Filtered Data\n",
    "Exploring the characteristics of the final, filtered dataset. Analyzing trends and distributions to generate insights for investment recommendations, specifically identifying low-risk aircraft model(s) for the company to consider in their new business venture."
   ]
  },
  {
   "cell_type": "code",
   "execution_count": 131,
   "id": "97ee75e4",
   "metadata": {},
   "outputs": [
    {
     "data": {
      "image/png": "[encoded data removed]",
      "text/plain": [
       "<Figure size 720x432 with 1 Axes>"
      ]
     },
     "metadata": {
      "needs_background": "light"
     },
     "output_type": "display_data"
    }
   ],
   "source": [
    "# Accident trend by year\n",
    "fig, ax = plt.subplots(figsize=(10, 6))\n",
    "sns.lineplot(x=df_filtered['year'].value_counts().sort_index().index,\n",
    "                 y=df_filtered['year'].value_counts().sort_index().values, color='green', linewidth=3)\n",
    "\n",
    "plt.title('Accidents Per Year')\n",
    "plt.xlabel('Year')\n",
    "plt.ylabel('Number of Accidents')\n",
    "plt.grid(True)\n",
    "plt.show()\n"
   ]
  },
  {
   "cell_type": "code",
   "execution_count": 132,
   "id": "d774277c",
   "metadata": {},
   "outputs": [
    {
     "data": {
      "image/png": "[encoded data removed]",
      "text/plain": [
       "<Figure size 1008x360 with 2 Axes>"
      ]
     },
     "metadata": {
      "needs_background": "light"
     },
     "output_type": "display_data"
    }
   ],
   "source": [
    "# Injury Severity + Full Damage Distribution\n",
    "fig, axes = plt.subplots(1, 2, figsize=(14, 5))\n",
    "\n",
    "# Top 10 Injury Severity Categories\n",
    "top10_severity = df_filtered['injury.severity'].value_counts().nlargest(10).index\n",
    "\n",
    "sns.countplot(\n",
    "    ax=axes[0],\n",
    "    data=df_filtered[df_filtered['injury.severity'].isin(top10_severity)],\n",
    "    x='injury.severity',\n",
    "    order=top10_severity,\n",
    "    palette='viridis'\n",
    ")\n",
    "axes[0].set_title('Top 10 Injury Severity Categories')\n",
    "axes[0].set_xlabel('Injury Severity')\n",
    "axes[0].set_ylabel('Accident Count')\n",
    "axes[0].tick_params(axis='x', rotation=45)\n",
    "\n",
    "# Full Aircraft Damage Distribution\n",
    "sns.countplot(\n",
    "    ax=axes[1],\n",
    "    data=df_filtered,\n",
    "    x='aircraft.damage',\n",
    "    order=df_filtered['aircraft.damage'].value_counts().index,\n",
    "    palette='magma'\n",
    ")\n",
    "axes[1].set_title('Distribution of Aircraft Damage')\n",
    "axes[1].set_xlabel('Aircraft Damage Level')\n",
    "axes[1].set_ylabel('Accident Count')\n",
    "axes[1].tick_params(axis='x', rotation=45)\n",
    "\n",
    "plt.tight_layout()\n",
    "plt.show()"
   ]
  },
  {
   "cell_type": "markdown",
   "id": "b5c6ea8b",
   "metadata": {},
   "source": [
    "# Risk Analysis by Aircraft Type (Make & Model)\n",
    "Calculating and comparing risk metrics across different aircraft types by defining two key indicators: the percentage of fatal accidents and the percentage of accidents involving severe damage. We then identify the aircraft types with the lowest risk rates.\n"
   ]
  },
  {
   "cell_type": "code",
   "execution_count": 133,
   "id": "a2cfc957",
   "metadata": {},
   "outputs": [
    {
     "data": {
      "image/png": "[encoded data removed]",
      "text/plain": [
       "<Figure size 432x288 with 1 Axes>"
      ]
     },
     "metadata": {
      "needs_background": "light"
     },
     "output_type": "display_data"
    },
    {
     "data": {
      "image/png": "[encoded data removed]",
      "text/plain": [
       "<Figure size 432x288 with 1 Axes>"
      ]
     },
     "metadata": {
      "needs_background": "light"
     },
     "output_type": "display_data"
    },
    {
     "data": {
      "image/png": "[encoded data removed]",
      "text/plain": [
       "<Figure size 432x288 with 1 Axes>"
      ]
     },
     "metadata": {
      "needs_background": "light"
     },
     "output_type": "display_data"
    }
   ],
   "source": [
    "#Define Risk Metrics & Aggregation Threshold\n",
    "threshold = 25  # Only aircraft types with at least 25 accidents will be included in the comparison — to ensure statistical significance (avoid making conclusions based on very small data).\n",
    "\n",
    "#Count total accidents per type\n",
    "type_counts = df_filtered['combined_aircraft_type'].value_counts() \n",
    "valid_types = type_counts[type_counts >= threshold].index\n",
    "df_subset = df_filtered[df_filtered['combined_aircraft_type'].isin(valid_types)]\n",
    "\n",
    "risk = df_subset.groupby('combined_aircraft_type').agg(\n",
    "\ttotal_accidents=('combined_aircraft_type', 'count'),\n",
    "\ttotal_fatal=('total.fatal.injuries', 'sum'),\n",
    "\ttotal_severe_damage=('total.serious.injuries', 'sum')).reset_index()\n",
    "\n",
    "#Fatal Accident Rate (%), Severe Damage Rate (%)\n",
    "risk['fatal_accident_rate_%'] = (risk['total_fatal'] / risk['total_accidents']) * 100\n",
    "risk['severe_damage_rate_%'] = (risk['total_severe_damage'] / risk['total_accidents']) * 100\n",
    "\n",
    " # Visualize top low-risk aircraft types\n",
    " #Aircraft Types by Lowest Fatal Accident Rate\n",
    "sns.barplot(data=risk.sort_values(by='fatal_accident_rate_%').head(10), y='combined_aircraft_type', x='fatal_accident_rate_%')\n",
    "plt.title('Top Aircraft Types by Lowest Fatal Accident Rate')\n",
    "plt.show()\n",
    "\n",
    "#Aircraft Types by Lowest Severe Damage Rate\n",
    "sns.barplot(data=risk.sort_values(by='severe_damage_rate_%').head(10), y='combined_aircraft_type', x='severe_damage_rate_%')\n",
    "plt.title('Top Aircraft Types by Lowest Severe Damage Rate')\n",
    "plt.show()\n",
    "\n",
    "#Fatal vs Severe Damage Rates\n",
    "sns.scatterplot(data=risk, x='fatal_accident_rate_%', y='severe_damage_rate_%', size='total_accidents', hue='total_accidents')\n",
    "plt.title('Risk Comparison: Fatal vs Severe Damage Rates')\n",
    "plt.show()"
   ]
  },
  {
   "cell_type": "markdown",
   "id": "65cd9335",
   "metadata": {},
   "source": [
    "# Conclusions & Recommendations\n",
    "Summarizing key findings and providing actionable recommendations on low-risk aircraft for the company to consider for investment, based on the data."
   ]
  },
  {
   "cell_type": "code",
   "execution_count": 134,
   "id": "c01fcae6",
   "metadata": {},
   "outputs": [
    {
     "name": "stdout",
     "output_type": "stream",
     "text": [
      "\n",
      "--- Conclusions ---\n",
      "Recommended Aircraft Types (Top 5):\n",
      "\n",
      "Top 5 Aircraft Types by Lowest Fatal Accident Rate  |  Top 5 Aircraft Types by Lowest Severe Damage Rate:\n",
      "----------------------------------------------------------------------------------------------------\n",
      "LET BLANIK L-13                                    | BOEING 777\n",
      "PIPER PA 18                                        | PIPER PA 46-350P\n",
      "BOEING 777                                         | BEECH 1900D\n",
      "GRUMMAN-SCHWEIZER G-164A                           | CESSNA 180J\n",
      "SCHWEIZER SGS 2-33A                                | CESSNA 140A\n",
      "\n",
      "**Caution Advised for These Models:**\n",
      "- BOEING 737-200\n",
      "- BOEING 737\n",
      "- BOEING 737-300\n",
      "- BEECH 1900C\n",
      "- BEECH 200\n"
     ]
    }
   ],
   "source": [
    "print(\"\\n--- Conclusions ---\")\n",
    "low_fatal = risk['fatal_accident_rate_%'].quantile(0.25)\n",
    "low_damage = risk['severe_damage_rate_%'].quantile(0.25)\n",
    "recommended = risk[(risk['fatal_accident_rate_%'] <= low_fatal) & (risk['severe_damage_rate_%'] <= low_damage)]\n",
    "\n",
    "print(f\"Recommended Aircraft Types (Top 5):\")\n",
    "\n",
    "# Getting the top 5 aircraft types for both categories\n",
    "lowest_fatal_accident_rate = risk.sort_values(by='fatal_accident_rate_%').head(5)['combined_aircraft_type']\n",
    "lowest_severe_damage_rate = risk.sort_values(by='severe_damage_rate_%').head(5)['combined_aircraft_type']\n",
    "\n",
    "# Printing the header for both columns\n",
    "print(f\"\\nTop 5 Aircraft Types by Lowest Fatal Accident Rate  |  Top 5 Aircraft Types by Lowest Severe Damage Rate:\")\n",
    "print(\"-\" * 100)  # Add a separator line for clarity\n",
    "\n",
    "# Looping to print the results side by side in two columns\n",
    "for fatal_model, damage_model in zip(lowest_fatal_accident_rate, lowest_severe_damage_rate):\n",
    "    print(f\"{fatal_model:<50} | {damage_model}\")\n",
    "\n",
    "# the 5 worst-performing aircraft types (the ones with the highest fatal accident and severe damage rates).\n",
    "print(\"\\n**Caution Advised for These Models:**\")\n",
    "for model in risk.sort_values(by=['fatal_accident_rate_%', 'severe_damage_rate_%'], ascending=False)['combined_aircraft_type'].head(5):\n",
    "      print(f\"- {model}\")"
   ]
  },
  {
   "cell_type": "code",
   "execution_count": 135,
   "id": "d4f13ca8",
   "metadata": {},
   "outputs": [
    {
     "name": "stdout",
     "output_type": "stream",
     "text": [
      "       combined_aircraft_type  total_accidents  total_fatal  \\\n",
      "93             BOEING 737-200               32        906.0   \n",
      "92                 BOEING 737              125       1348.0   \n",
      "94             BOEING 737-300               30        167.0   \n",
      "21                BEECH 1900C               33         65.0   \n",
      "23                  BEECH 200               75        124.0   \n",
      "..                        ...              ...          ...   \n",
      "425       SCHWEIZER SGS 2-33A               62          1.0   \n",
      "288           LET BLANIK L-13               34          0.0   \n",
      "317               PIPER PA 18               27          0.0   \n",
      "273  GRUMMAN-SCHWEIZER G-164A               49          0.0   \n",
      "96                 BOEING 777               27          0.0   \n",
      "\n",
      "     total_severe_damage  fatal_accident_rate_%  severe_damage_rate_%  \n",
      "93                  78.0            2831.250000            243.750000  \n",
      "92                 325.0            1078.400000            260.000000  \n",
      "94                  24.0             556.666667             80.000000  \n",
      "21                   8.0             196.969697             24.242424  \n",
      "23                   8.0             165.333333             10.666667  \n",
      "..                   ...                    ...                   ...  \n",
      "425                 10.0               1.612903             16.129032  \n",
      "288                 10.0               0.000000             29.411765  \n",
      "317                  7.0               0.000000             25.925926  \n",
      "273                  3.0               0.000000              6.122449  \n",
      "96                   0.0               0.000000              0.000000  \n",
      "\n",
      "[435 rows x 6 columns]\n"
     ]
    }
   ],
   "source": [
    "#Full List of Aircraft Risk Scores\n",
    "print(risk.sort_values(by=['fatal_accident_rate_%', 'severe_damage_rate_%'], ascending=False))"
   ]
  },
  {
   "cell_type": "code",
   "execution_count": 136,
   "id": "8d62b81b",
   "metadata": {},
   "outputs": [
    {
     "name": "stdout",
     "output_type": "stream",
     "text": [
      "115         CESSNA 152\n",
      "119         CESSNA 172\n",
      "132        CESSNA 172N\n",
      "351    PIPER PA-28-140\n",
      "131        CESSNA 172M\n",
      "104         CESSNA 150\n",
      "133        CESSNA 172P\n",
      "149         CESSNA 182\n",
      "143         CESSNA 180\n",
      "327        PIPER PA-18\n",
      "Name: combined_aircraft_type, dtype: object\n"
     ]
    }
   ],
   "source": [
    "#Top Aircraft Models by Accident Count\n",
    "top_accident_models = risk.sort_values(by='total_accidents', ascending=False).head(10)['combined_aircraft_type']\n",
    "print(top_accident_models)"
   ]
  },
  {
   "cell_type": "code",
   "execution_count": 137,
   "id": "b1f64b70",
   "metadata": {},
   "outputs": [
    {
     "name": "stdout",
     "output_type": "stream",
     "text": [
      "96                   BOEING 777\n",
      "273    GRUMMAN-SCHWEIZER G-164A\n",
      "317                 PIPER PA 18\n",
      "288             LET BLANIK L-13\n",
      "425         SCHWEIZER SGS 2-33A\n",
      "256               ENSTROM F-28C\n",
      "294              MAULE M-4-220C\n",
      "263         GREAT LAKES 2T-1A-2\n",
      "3                  AERONCA 15AC\n",
      "98           BOEING A75N1(PT17)\n",
      "Name: combined_aircraft_type, dtype: object\n"
     ]
    }
   ],
   "source": [
    "#Top 10 Models with Lowest Fatality Rates\n",
    "low_fatal = risk['fatal_accident_rate_%'].quantile(0.25)\n",
    "low_fatal_models = risk[risk['fatal_accident_rate_%'] <= low_fatal].sort_values(by='fatal_accident_rate_%').head(10)['combined_aircraft_type']\n",
    "print(low_fatal_models)"
   ]
  },
  {
   "cell_type": "code",
   "execution_count": 138,
   "id": "bdb32310",
   "metadata": {},
   "outputs": [
    {
     "name": "stdout",
     "output_type": "stream",
     "text": [
      "322              PIPER PA 46-350P\n",
      "22                    BEECH 1900D\n",
      "96                     BOEING 777\n",
      "147                   CESSNA 180J\n",
      "370                  PIPER PA-31T\n",
      "103                   CESSNA 140A\n",
      "100                    BOEING E75\n",
      "300    MOONEY AIRCRAFT CORP. M20K\n",
      "55                      BEECH F35\n",
      "27                       BEECH 36\n",
      "Name: combined_aircraft_type, dtype: object\n"
     ]
    }
   ],
   "source": [
    "#Top 10 Models with Lowest Severe Damage\n",
    "low_damage = risk['severe_damage_rate_%'].quantile(0.25)\n",
    "low_damage_models = risk[risk['severe_damage_rate_%'] <= low_damage].sort_values(by='severe_damage_rate_%').head(10)['combined_aircraft_type'].copy()\n",
    "print(low_damage_models)"
   ]
  },
  {
   "cell_type": "code",
   "execution_count": 139,
   "id": "2766a2d9",
   "metadata": {},
   "outputs": [],
   "source": [
    "#saving copies of df_cleaned, df_filtered and risk_analysis dataframe \n",
    "# df_cleaned.to_csv('df_cleaned.csv', index=False)\n",
    "# df_filtered.to_csv('df_filtered.csv', index=False)\n",
    "# risk.to_csv('risk_analysis.csv', index=False)\n",
    "# top_accident_models.to_csv('top_accident_models.csv', index=False)\n",
    "#low_fatal_models.to_csv('low_fatal_models.csv', index=False)\n",
    "#low_damage_models.to_csv('low_damage_models.csv', index=False)"
   ]
  }
 ],
 "metadata": {
  "kernelspec": {
   "display_name": "learn-env",
   "language": "python",
   "name": "python3"
  },
  "language_info": {
   "codemirror_mode": {
    "name": "ipython",
    "version": 3
   },
   "file_extension": ".py",
   "mimetype": "text/x-python",
   "name": "python",
   "nbconvert_exporter": "python",
   "pygments_lexer": "ipython3",
   "version": "3.8.5"
  }
 },
 "nbformat": 4,
 "nbformat_minor": 5
}
